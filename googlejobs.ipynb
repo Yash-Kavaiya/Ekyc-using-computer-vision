{
 "cells": [
  {
   "cell_type": "code",
   "execution_count": 2,
   "metadata": {
    "metadata": {}
   },
   "outputs": [
    {
     "name": "stdout",
     "output_type": "stream",
     "text": [
      "\n",
      "\n",
      "\u001b[1m> Entering new AgentExecutor chain...\u001b[0m\n",
      "\u001b[32;1m\u001b[1;3mI need to find an entry level job posting related to AI and Data Science\n",
      "Action: google_jobs\n",
      "Action Input: \"entry level data science\"\u001b[0m\n",
      "Observation: \u001b[36;1m\u001b[1;3m\n",
      "_______________________________________________\n",
      "Job Title: Entry Level Data Scientist(Remote)\n",
      "Company Name: SynergisticIT\n",
      "Location:   Allentown, PA   \n",
      "Description: The Job Market is Challenging due to more than 150,000 Tech Layoffs in 2022 and in 2023 more than 240,000 layoffs so almost 3,90,00 tech employees have been laid off since 2022 and its still going on . The effect of this has led hundreds of thousands of laid off Tech employees competing with existing Jobseekers. Entry level Job seekers struggle to get responses to their applications, are getting... ghosted after interviews. In such a scenario the Job seekers need to differentiate themselves by ensuring to obtain exceptional skills and technologies to be hired by clients as its an employer's market presently and they have a lot of hiring choices.\n",
      "For more than 12+ years Synergisticit has helped Jobseekers differentiate themselves by providing candidates the requisite skills and experience to outperform at interviews and clients. Here at SynergisticIT We just don't focus on getting you a Job we make careers. All Positions are open for all visas and US citizens\n",
      "We are matchmakers we provide clients with candidates who can perform from day 1 of starting work. In this challenging economy every client wants to save $$$'s and they want the best value for their money. Jobseekers need to self-evaluate if they have the requisite skills to meet client requirements and needs as Clients now post covid can also hire remote workers which increases even more competition for jobseekers. We at Synergisticit understand the problem of the mismatch between employer's requirements and Employee skills and that's why since 2010 we have helped 1000's of candidates get jobs at technology clients like apple, google, Paypal, western union, Client, visa, walmart labs etc to name a few. We have an excellent reputation with the clients. Currently, We are looking for entry-level software programmers, Java Full stack developers, Python/Java developers, Data analysts/ Data Scientists, Machine Learning engineers for full time positions with clients. Who Should Apply Recent Computer science/Engineering /Mathematics/Statistics or Science Graduates or People looking to switch careers or who have had gaps in employment and looking to make their careers in IT Industry We assist in filing for STEM extension and also for H1b and Green card filing to Candidates\n",
      "We also offer optionally Skill and technology enhancement programs for candidates who are either missing skills or are lacking Industry/Client experience with Projects and skills. Candidates having difficulty in finding jobs or cracking interviews or who wants to improve their skill portfolio. If they are qualified with enough skills and have hands on project work at clients then they should be good to be submitted to clients. Shortlisting and selection is totally based on clients discretion not ours.\n",
      "please check the below links to see success outcomes of our candidates and our participation at different Tech industry events and how we are different from other organizations in helping Jobseekers secure Tech careers https://www.synergisticit.com/candidate-outcomes/\n",
      "We regularly interact with the Top Tech companies to give our candidates a competitive advantage-Please see us exhibiting at Oracle Cloud world /Oracle Java one (Las vegas) -2023/2022 and at Gartner Data Analytics Summit (Florida)-2023\n",
      "Oracle CloudWorld Event (OCW) Las Vegas 2023/ 2022 | SynergisticIT - YouTube\n",
      "https://youtu.be/Rfn8Y0gnfL8?si=p2V4KFv5HukJXTrn https://youtu.be/-HkNN1ag6Zk?si=1NRfgsvL_HJMVb6Q https://www.youtube.com/watch?v=NVBU9RYZ6UI\n",
      "https://www.youtube.com/watch?v=EmO7NrWHkLM https://www.youtube.com/watch?v=NVBU9RYZ6UI\n",
      "https://www.youtube.com/watch?v=OAFOhcGy9Z8\n",
      "https://www.youtube.com/watch?v=Yy74yvjatVg\n",
      "For preparing for interviews please visit https://www.synergisticit.com/interview-questions/\n",
      "We are looking for the right matching candidates for our clients\n",
      "Please apply via the job posting\n",
      "REQUIRED SKILLS For Java /Full stack/Software Programmer\n",
      "Bachelors degree or Masters degree in Computer Science, Computer Engineering, Electrical Engineering, Information Systems, IT\n",
      "Highly motivated, self-learner, and technically inquisitive\n",
      "Experience in programming language Java and understanding of the software development life cycle\n",
      "Project work on the skills\n",
      "Knowledge of Core Java , javascript , C++ or software programming\n",
      "Spring boot, Microservices, Docker, Jenkins and REST API's experience\n",
      "Excellent written and verbal communication skills\n",
      "For data Science/Machine learning Positions\n",
      "REQUIRED SKILLS\n",
      "Bachelors degree or Masters degree in Computer Science, Computer Engineering, Electrical Engineering, Information Systems, IT\n",
      "Project work on the technologies needed\n",
      "Highly motivated, self-learner, and technically inquisitive\n",
      "Experience in programming language Java and understanding of the software development life cycle\n",
      "Knowledge of Statistics, SAS, Python, Computer Vision, data visualization tools\n",
      "Excellent written and verbal communication skills\n",
      "Preferred skills: NLP, Text mining, Tableau, PowerBI, SAS, Tensorflow\n",
      "If you get emails from our skill enhancement team please email them or ask them to take you off their distribution list and make you unavailable as they share the same database with the client servicing team who only connect with candidates who are matching client requirements.\n",
      "No phone calls please. Shortlisted candidates would be reached out. No third party or agency candidates or c2c candidates\n",
      "At SynergisticIT, we're all about making connections. Whatever IT goals you have, our software programmers can help achieve those. Our Software development teams can take up turnkey projects and execute them in an effective and efficient manner. If you are looking to source talent our recruiters will find the ideal IT talent for your company. What's the secret to our success? Well, it all starts with taking quality time to listen to each client's specific needs. After we have a thorough grasp of your IT goals, we can better customize our Developments as per your specific needs. We can also tailor make recruiting programs to exceed your expectations. Since our founding in 2010, SynergisticIT's strategies have earned the company an enviable position in the software development, IT staffing and IT skill enhancement fields. SynergisticIT continues to work with hundreds of satisfied American clients with our software programmers working on our projects and after gaining hands on experience on cutting edge technologies moving to contribute their skills to great clients like Apple, Google, Client, Ebay, Paypal, Kroger, the Walt Disney Company and hundreds more. If you are tired of working with inefficient programmers who take a lot of time to ramp up we want you to try us. Our software programmers can hit the ground running and get you the maximum return on your investment. You have already tried the rest its time you tried the best. SynergisticIT - Home of the Best Data Scientists and Software Programmers in the Bay Area.\n",
      "Why Us ?\n",
      "SynergisticIT has a proven track record of successfully skill enhancement and staffing IT employees for some of the world's most iconic brands. Our team takes the time to fully understand every client's needs so we could best meet your IT staffing requirements. The knowledgeable staff at SynergisticIT is always more than happy to work with clients to ensure they reach their software development goals. Besides staffing, SynergisticIT is also committed to helping young IT professionals advance their career with a robust upskill program. Everyone who goes through SynergisticIT's program learns all the skills necessary to succeed in many IT fields ranging from Java to Machine Learning. Additionally, everyone trained at SynergisticIT has been through extensive mock and technical interview screenings to bolster their career prospects. Last, but certainly not least, SynergisticIT takes great care to respect the privacy considerations for every client. All companies who work with SynergisticIT can rest assured their confidential data is protected using the most up-to-date encryption technologies. SynergisticIT also complies with all the latest NDA agreements.\n",
      "REQUIRED SKILLS For Java /Software Programmers\n",
      "Bachelors degree or Masters degree in Computer Science, Computer Engineering, Electrical Engineering, Information Systems, IT\n",
      "Highly motivated, self-learner, and technically inquisitive\n",
      "Experience in programming language Java and understanding of the software development life cycle\n",
      "Project work on the skills\n",
      "Knowledge of Core Java , javascript , C++ or software programming\n",
      "Spring boot, Microservices, Docker, Jenkins and REST API's experience\n",
      "Excellent written and verbal communication skills\n",
      "For data Science/Machine learning\n",
      "REQUIRED SKILLS\n",
      "Bachelors degree or Masters degree in Computer Science, Computer Engineering, Electrical Engineering, Information Systems, IT\n",
      "Project work on the technologies needed\n",
      "Highly motivated, self-learner, and technically inquisitive\n",
      "Experience in programming language Java and understanding of the software development life cycle\n",
      "Knowledge of Statistics, SAS, Python, Computer Vision, data visualization tools\n",
      "Excellent written and verbal communication skills\n",
      "Preferred skills: NLP, Text mining, Tableau, PowerBI, Time series analysis\n",
      "We regularly interact with the Top Tech companies to give our candidates a competitive advantage-Please see us exhibiting at Oracle Cloud world /Oracle Java one (Las vegas) -2022 and at Gartner Data Analytics Summit (Florida)-2023\n",
      "Oracle CloudWorld Event (OCW) Las Vegas 2022 | SynergisticIT - YouTube https://www.youtube.com/watch?v=OAFOhcGy9Z8\n",
      "https://www.youtube.com/watch?v=EmO7NrWHkLM https://www.youtube.com/watch?v=NVBU9RYZ6UI\n",
      "https://www.youtube.com/watch?v=Yy74yvjatVg SynergisticIT at Gartner Data and Analytics Summit 2023 - YouTube\n",
      "For preparing for interviews please visit https://www.synergisticit.com/interview-questions/\n",
      "We are looking for the right matching candidates for our clients\n",
      "Please apply via the job posting\n",
      "REQUIRED SKILLS For Java /Full stack/Software Programmer\n",
      "Bachelors degree or Masters degree in Computer Science, Computer Engineering, Electrical Engineering, Information Systems, IT\n",
      "Highly motivated, self-learner, and technically inquisitive\n",
      "Experience in programming language Java and understanding of the software development life cycle\n",
      "Project work on the skills\n",
      "Knowledge of Core Java , javascript , C++ or software programming\n",
      "Spring boot, Microservices, Docker, Jenkins and REST API's experience\n",
      "Excellent written and verbal communication skills\n",
      "For data Science/Machine learning Positions\n",
      "REQUIRED SKILLS\n",
      "Bachelors degree or Masters degree in Computer Science, Computer Engineering, Electrical Engineering, Information Systems, IT\n",
      "Project work on the technologies needed\n",
      "Highly motivated, self-learner, and technically inquisitive\n",
      "Experience in programming language Java and understanding of the software development life cycle\n",
      "Knowledge of Statistics, SAS, Python, Computer Vision, data visualization tools\n",
      "Excellent written and verbal communication skills\n",
      "Preferred skills: NLP, Text mining, Tableau, PowerBI, Tensorflow\n",
      "If you get emails from our skill enhancement team please ask them to take you off their distribution list and make you unavailable as they share the same database with the client servicing team.\n",
      "No phone calls please. Shortlisted candidates would be reached out. No third party or agency candidates or c2c candidates\n",
      "\n",
      "_______________________________________________\n",
      "\n",
      "\u001b[0m\n",
      "Thought:\u001b[32;1m\u001b[1;3mI now know the final answer\n",
      "Final Answer: Entry Level Data Scientist(Remote)\n",
      "Company Name: SynergisticIT\n",
      "Location:   Allentown, PA   \n",
      "Description: Bachelors degree or Masters degree in Computer Science, Computer Engineering, Electrical Engineering, Information Systems, IT\n",
      "Highly motivated, self-learner, and technically inquisitive\n",
      "Experience in programming language Java and understanding of the software development life cycle\n",
      "Project work on the technologies needed\n",
      "Knowledge of Statistics, SAS, Python, Computer Vision, data visualization tools\n",
      "Excellent written and verbal communication skills\n",
      "Preferred skills: NLP, Text mining, Tableau, PowerBI, Tensorflow\u001b[0m\n",
      "\n",
      "\u001b[1m> Finished chain.\u001b[0m\n"
     ]
    },
    {
     "data": {
      "text/plain": [
       "'Entry Level Data Scientist(Remote)\\nCompany Name: SynergisticIT\\nLocation:   Allentown, PA   \\nDescription: Bachelors degree or Masters degree in Computer Science, Computer Engineering, Electrical Engineering, Information Systems, IT\\nHighly motivated, self-learner, and technically inquisitive\\nExperience in programming language Java and understanding of the software development life cycle\\nProject work on the technologies needed\\nKnowledge of Statistics, SAS, Python, Computer Vision, data visualization tools\\nExcellent written and verbal communication skills\\nPreferred skills: NLP, Text mining, Tableau, PowerBI, Tensorflow'"
      ]
     },
     "execution_count": 2,
     "metadata": {},
     "output_type": "execute_result"
    }
   ],
   "source": [
    "import os\n",
    "from langchain_google_genai import GoogleGenerativeAI\n",
    "from langchain_community.tools.google_jobs import GoogleJobsQueryRun\n",
    "from langchain_community.utilities.google_jobs import GoogleJobsAPIWrapper\n",
    "from langchain.agents import AgentType, initialize_agent, load_tools\n",
    "\n",
    "os.environ[\"SERPAPI_API_KEY\"]=\" \"\n",
    "\n",
    "api_key = \" \"\n",
    "tool = GoogleJobsQueryRun(api_wrapper=GoogleJobsAPIWrapper())\n",
    "tool.run(\"Can I get an entry level job posting related to AI Engineer\")\n",
    "llm = GoogleGenerativeAI(model=\"models/text-bison-001\", google_api_key=api_key)\n",
    "tools = load_tools([\"google-jobs\"], llm=llm)\n",
    "agent = initialize_agent(\n",
    "    tools, llm, agent=AgentType.ZERO_SHOT_REACT_DESCRIPTION, verbose=True\n",
    ")\n",
    "agent.run(\"give me an entry level job posting related to  AI and Data Science\")\n",
    "\n"
   ]
  },
  {
   "cell_type": "code",
   "execution_count": null,
   "metadata": {},
   "outputs": [],
   "source": []
  },
  {
   "cell_type": "code",
   "execution_count": 2,
   "metadata": {},
   "outputs": [
    {
     "ename": "NameError",
     "evalue": "name 'GoogleGenerativeAI' is not defined",
     "output_type": "error",
     "traceback": [
      "\u001b[0;31m---------------------------------------------------------------------------\u001b[0m",
      "\u001b[0;31mNameError\u001b[0m                                 Traceback (most recent call last)",
      "\u001b[1;32m/workspaces/Ekyc-using-computer-vision/googlejobs.ipynb Cell 2\u001b[0m line \u001b[0;36m1\n\u001b[0;32m----> <a href='vscode-notebook-cell://codespaces%2Borganic-space-telegram-g45r9pxx5qhvx4q/workspaces/Ekyc-using-computer-vision/googlejobs.ipynb#W1sdnNjb2RlLXJlbW90ZQ%3D%3D?line=0'>1</a>\u001b[0m llm \u001b[39m=\u001b[39m GoogleGenerativeAI(model\u001b[39m=\u001b[39m\u001b[39m\"\u001b[39m\u001b[39mmodels/text-bison-001\u001b[39m\u001b[39m\"\u001b[39m, google_api_key\u001b[39m=\u001b[39mapi_key)\n\u001b[1;32m      <a href='vscode-notebook-cell://codespaces%2Borganic-space-telegram-g45r9pxx5qhvx4q/workspaces/Ekyc-using-computer-vision/googlejobs.ipynb#W1sdnNjb2RlLXJlbW90ZQ%3D%3D?line=1'>2</a>\u001b[0m tools \u001b[39m=\u001b[39m load_tools([\u001b[39m\"\u001b[39m\u001b[39mgoogle-jobs\u001b[39m\u001b[39m\"\u001b[39m], llm\u001b[39m=\u001b[39mllm)\n\u001b[1;32m      <a href='vscode-notebook-cell://codespaces%2Borganic-space-telegram-g45r9pxx5qhvx4q/workspaces/Ekyc-using-computer-vision/googlejobs.ipynb#W1sdnNjb2RlLXJlbW90ZQ%3D%3D?line=2'>3</a>\u001b[0m agent \u001b[39m=\u001b[39m initialize_agent(\n\u001b[1;32m      <a href='vscode-notebook-cell://codespaces%2Borganic-space-telegram-g45r9pxx5qhvx4q/workspaces/Ekyc-using-computer-vision/googlejobs.ipynb#W1sdnNjb2RlLXJlbW90ZQ%3D%3D?line=3'>4</a>\u001b[0m     tools, llm, agent\u001b[39m=\u001b[39mAgentType\u001b[39m.\u001b[39mZERO_SHOT_REACT_DESCRIPTION, verbose\u001b[39m=\u001b[39m\u001b[39mTrue\u001b[39;00m\n\u001b[1;32m      <a href='vscode-notebook-cell://codespaces%2Borganic-space-telegram-g45r9pxx5qhvx4q/workspaces/Ekyc-using-computer-vision/googlejobs.ipynb#W1sdnNjb2RlLXJlbW90ZQ%3D%3D?line=4'>5</a>\u001b[0m )\n",
      "\u001b[0;31mNameError\u001b[0m: name 'GoogleGenerativeAI' is not defined"
     ]
    }
   ],
   "source": []
  }
 ],
 "metadata": {
  "kernelspec": {
   "display_name": "Python 3",
   "language": "python",
   "name": "python3"
  },
  "language_info": {
   "codemirror_mode": {
    "name": "ipython",
    "version": 3
   },
   "file_extension": ".py",
   "mimetype": "text/x-python",
   "name": "python",
   "nbconvert_exporter": "python",
   "pygments_lexer": "ipython3",
   "version": "3.10.13"
  }
 },
 "nbformat": 4,
 "nbformat_minor": 2
}
